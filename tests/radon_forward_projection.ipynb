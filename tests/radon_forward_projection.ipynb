{
 "cells": [
  {
   "cell_type": "code",
   "execution_count": null,
   "id": "cd292d1a-dacd-4020-9f4b-b51bf80e6531",
   "metadata": {},
   "outputs": [],
   "source": [
    "# Add the necessary paths\n",
    "import setup_paths\n",
    "setup_paths.add_paths('..', ['api', 'utils'])\n",
    "\n",
    "# Add the modules from the project test\n",
    "from binio import load_bin\n",
    "import ray_tracing_cuda_float as rt"
   ]
  },
  {
   "cell_type": "code",
   "execution_count": null,
   "id": "05a539ea-d9c2-4d3d-b984-ff3cd640adab",
   "metadata": {},
   "outputs": [],
   "source": [
    "import numpy as np\n",
    "import matplotlib.pyplot as plt\n",
    "\n",
    "# Convert bin into array type object\n",
    "img = load_bin('../data/data.bin', dtype='float32')\n",
    "\n",
    "# Create radon transform\n",
    "( radon, radon_transpose ) = rt.make_radon_transp(\n",
    "    ( img.shape ),\n",
    "    sino_top_left = ( 0.0, 1.0 ),\n",
    "    sino_bottom_right = ( np.pi, -1.0 ),\n",
    "    img_shape = ( img.shape )    \n",
    ")\n",
    "\n",
    "# Perform radon transformation\n",
    "data = radon( img )\n",
    "\n",
    "plt.figure( figsize = ( 7, 7 ) )\n",
    "plt.imshow( img , interpolation = 'nearest' )\n",
    "plt.show()"
   ]
  },
  {
   "cell_type": "code",
   "execution_count": null,
   "id": "ddadc78d-f299-4880-b549-c3bfb8f7f871",
   "metadata": {},
   "outputs": [],
   "source": [
    "plt.figure( figsize = ( 7, 7 ) )\n",
    "plt.imshow( data, interpolation = 'nearest' )\n",
    "plt.show()"
   ]
  }
 ],
 "metadata": {
  "kernelspec": {
   "display_name": "Python 3 (ipykernel)",
   "language": "python",
   "name": "python3"
  },
  "language_info": {
   "codemirror_mode": {
    "name": "ipython",
    "version": 3
   },
   "file_extension": ".py",
   "mimetype": "text/x-python",
   "name": "python",
   "nbconvert_exporter": "python",
   "pygments_lexer": "ipython3",
   "version": "3.10.12"
  }
 },
 "nbformat": 4,
 "nbformat_minor": 5
}
